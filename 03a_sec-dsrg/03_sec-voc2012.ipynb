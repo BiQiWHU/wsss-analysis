{
 "cells": [
  {
   "cell_type": "markdown",
   "metadata": {},
   "source": [
    "# 03_sec-voc2012"
   ]
  },
  {
   "cell_type": "code",
   "execution_count": 1,
   "metadata": {},
   "outputs": [],
   "source": [
    "import os\n",
    "import time\n",
    "import pickle\n",
    "import cv2\n",
    "import numpy.matlib\n",
    "import tensorflow as tf\n",
    "import skimage.color as imgco\n",
    "import skimage.io as imgio\n",
    "import multiprocessing\n",
    "import pandas as pd\n",
    "import traceback\n",
    "\n",
    "from utilities import *\n",
    "from lib.crf import crf_inference\n",
    "\n",
    "from DSRG import DSRG\n",
    "from SEC import SEC\n",
    "\n",
    "import argparse\n",
    "from model import Model\n",
    "\n",
    "MODEL_WSSS_ROOT = '../database/models_wsss'"
   ]
  },
  {
   "cell_type": "code",
   "execution_count": 3,
   "metadata": {},
   "outputs": [
    {
     "name": "stdout",
     "output_type": "stream",
     "text": [
      "len:{'train': 10582, 'val': 1449}\n"
     ]
    }
   ],
   "source": [
    "method = 'SEC'\n",
    "dataset = 'VOC2012'\n",
    "phase = 'predict'\n",
    "seed_type = 'VGG16'\n",
    "if dataset in ['ADP-morph', 'ADP-func']:\n",
    "    setname = 'segtest'\n",
    "    sess_id = dataset + '_' + setname + '_' + seed_type\n",
    "else:\n",
    "    sess_id = dataset + '_' + seed_type\n",
    "h, w = (321, 321)\n",
    "seed_size = 41\n",
    "batch_size = 16\n",
    "should_saveimg = False\n",
    "verbose = True\n",
    "\n",
    "parser = argparse.ArgumentParser()\n",
    "parser.add_argument('-m', '--method', help='The WSSS method to be used (either SEC or DSRG)', type=str)\n",
    "parser.add_argument('-d', '--dataset', help='The dataset to run on (either ADP-morph, ADP-func, VOC2012, '\n",
    "                                            'DeepGlobe_train75, or DeepGlobe_train37.5)', type=str)\n",
    "parser.add_argument('-n', '--setname', help='The name of the segmentation validation set in the ADP dataset, if '\n",
    "                                            'applicable (either tuning or segtest)', type=str)\n",
    "parser.add_argument('-s', '--seed', help='The type of classification network to use for seeding (either VGG16, X1.7 for '\n",
    "                                         'ADP-morph or ADP-func, or M7 for all other datasets)', type=str)\n",
    "parser.add_argument('-b', '--batchsize', help='The batch size', default=16, type=int)\n",
    "parser.add_argument('-i', '--saveimg', help='Toggle whether to save output segmentation as images', action='store_true')\n",
    "parser.add_argument('-v', '--verbose', help='Toggle verbosity of debug messages', action='store_true')\n",
    "args = parser.parse_args(['--method', method, '--dataset', dataset, '--seed', seed_type, '-v'])\n",
    "mdl = Model(args)\n",
    "mdl.load()"
   ]
  },
  {
   "cell_type": "markdown",
   "metadata": {},
   "source": [
    "## Build model"
   ]
  },
  {
   "cell_type": "code",
   "execution_count": 4,
   "metadata": {},
   "outputs": [
    {
     "name": "stdout",
     "output_type": "stream",
     "text": [
      "WARNING:tensorflow:From C:\\Users\\chanlynd\\Anaconda3\\lib\\site-packages\\tensorflow\\python\\ops\\control_flow_ops.py:423: colocate_with (from tensorflow.python.framework.ops) is deprecated and will be removed in a future version.\n",
      "Instructions for updating:\n",
      "Colocations handled automatically by placer.\n",
      "WARNING:tensorflow:From C:\\Users\\chanlynd\\Documents\\Grad Research\\wsss-analysis\\03_sec-dsrg\\model.py:308: calling squeeze (from tensorflow.python.ops.array_ops) with squeeze_dims is deprecated and will be removed in a future version.\n",
      "Instructions for updating:\n",
      "Use the `axis` argument instead\n",
      "\n",
      "WARNING: The TensorFlow contrib module will not be included in TensorFlow 2.0.\n",
      "For more information, please see:\n",
      "  * https://github.com/tensorflow/community/blob/master/rfcs/20180907-contrib-sunset.md\n",
      "  * https://github.com/tensorflow/addons\n",
      "If you depend on functionality not listed there, please file an issue.\n",
      "\n",
      "WARNING:tensorflow:From C:\\Users\\chanlynd\\Documents\\Grad Research\\wsss-analysis\\03_sec-dsrg\\SEC.py:283: py_func (from tensorflow.python.ops.script_ops) is deprecated and will be removed in a future version.\n",
      "Instructions for updating:\n",
      "tf.py_func is deprecated in TF V2. Instead, use\n",
      "    tf.py_function, which takes a python function which manipulates tf eager\n",
      "    tensors instead of numpy arrays. It's easy to convert a tf eager tensor to\n",
      "    an ndarray (just call tensor.numpy()) but having access to eager tensors\n",
      "    means `tf.py_function`s can use accelerators such as GPUs as well as\n",
      "    being differentiable using a gradient tape.\n",
      "    \n"
     ]
    }
   ],
   "source": [
    "mdl.sess = tf.Session()\n",
    "data_x = {}\n",
    "data_label = {}\n",
    "id_of_image = {}\n",
    "iterator = {}\n",
    "for val_category in mdl.run_categories[1:]:\n",
    "    data_x[val_category], data_label[val_category], id_of_image[val_category], \\\n",
    "    iterator[val_category] = mdl.next_batch(category=val_category, max_epochs=1)\n",
    "first_cat = mdl.run_categories[1]\n",
    "mdl.model.build(net_input=data_x[first_cat], net_label=data_label[first_cat], net_id=id_of_image[first_cat],\n",
    "                 phase=first_cat)\n",
    "\n",
    "mdl.sess.run(tf.global_variables_initializer())\n",
    "mdl.sess.run(tf.local_variables_initializer())\n",
    "for val_category in mdl.run_categories[1:]:\n",
    "    mdl.sess.run(iterator[val_category].initializer)"
   ]
  },
  {
   "cell_type": "markdown",
   "metadata": {},
   "source": [
    "## Load model from file"
   ]
  },
  {
   "cell_type": "code",
   "execution_count": 5,
   "metadata": {},
   "outputs": [
    {
     "name": "stdout",
     "output_type": "stream",
     "text": [
      "Loading model from previous checkpoint ../database/models_wsss\\SEC\\VOC2012_VGG16\\final-0\n",
      "WARNING:tensorflow:From C:\\Users\\chanlynd\\Anaconda3\\lib\\site-packages\\tensorflow\\python\\training\\saver.py:1266: checkpoint_exists (from tensorflow.python.training.checkpoint_management) is deprecated and will be removed in a future version.\n",
      "Instructions for updating:\n",
      "Use standard file APIs to check for files with this prefix.\n",
      "INFO:tensorflow:Restoring parameters from ../database/models_wsss\\SEC\\VOC2012_VGG16\\final-0\n"
     ]
    }
   ],
   "source": [
    "# Resume training from latest checkpoint if it exists\n",
    "saver = tf.train.Saver(max_to_keep=1, var_list=mdl.model.trainable_list)\n",
    "latest_ckpt = mdl.get_latest_checkpoint()\n",
    "if latest_ckpt is not None:\n",
    "    if verbose:\n",
    "        print('Loading model from previous checkpoint %s' % latest_ckpt)\n",
    "    mdl.restore_from_model(saver, latest_ckpt)"
   ]
  },
  {
   "cell_type": "markdown",
   "metadata": {},
   "source": [
    "## Predict segmentation on a single batch"
   ]
  },
  {
   "cell_type": "code",
   "execution_count": 6,
   "metadata": {},
   "outputs": [],
   "source": [
    "val_category = mdl.run_categories[1]\n",
    "layer = mdl.model.net['rescale_output']\n",
    "input = mdl.model.net['input']\n",
    "dropout = mdl.model.net['drop_prob']\n",
    "img,id_,gt_ = mdl.sess.run([data_x[val_category], id_of_image[val_category], data_label[val_category],])\n",
    "# Generate predicted segmentation in current batch\n",
    "output_scale = mdl.sess.run(layer,feed_dict={input:img, dropout:0.0})\n",
    "img_ids = list(id_)\n",
    "gt_ = gt_[:, :, :, :3]"
   ]
  },
  {
   "cell_type": "code",
   "execution_count": 7,
   "metadata": {},
   "outputs": [],
   "source": [
    "j = 0\n",
    "\n",
    "# Read original image\n",
    "img_curr = cv2.cvtColor(cv2.imread(os.path.join(mdl.dataset_dir, 'JPEGImages',\n",
    "                        id_[j].decode('utf-8') + '.jpg')), cv2.COLOR_RGB2BGR)\n",
    "# Read GT segmentation\n",
    "if dataset == 'VOC2012' or 'DeepGlobe' in dataset:\n",
    "    gt_curr = cv2.cvtColor(cv2.imread(os.path.join(mdl.dataset_dir, 'SegmentationClassAug',\n",
    "                                  id_[j].decode('utf-8') + '.png')), cv2.COLOR_RGB2BGR)\n",
    "elif dataset == 'ADP-morph':\n",
    "    gt_curr = cv2.cvtColor(cv2.imread(os.path.join(mdl.dataset_dir, 'SegmentationClassAug', 'ADP-morph',\n",
    "                                      id_[j].decode('utf-8') + '.png')), cv2.COLOR_RGB2BGR)\n",
    "elif dataset == 'ADP-func':\n",
    "    gt_curr = cv2.cvtColor(cv2.imread(os.path.join(mdl.dataset_dir, 'SegmentationClassAug', 'ADP-func',\n",
    "                                      id_[j].decode('utf-8') + '.png')), cv2.COLOR_RGB2BGR)\n",
    "# Read predicted segmentation\n",
    "if 'DeepGlobe' not in dataset:\n",
    "    pred_curr = cv2.resize(output_scale[j], (gt_curr.shape[1], gt_curr.shape[0]))\n",
    "    img_curr = cv2.resize(img_curr, (gt_curr.shape[1], gt_curr.shape[0]))\n",
    "    # Apply dCRF\n",
    "    pred_curr = crf_inference(img_curr, mdl.model.crf_config_test, mdl.num_classes, pred_curr,\n",
    "                              use_log=True)\n",
    "else:\n",
    "    # Apply dCRF\n",
    "    pred_curr = crf_inference(np.uint8(img[j]), mdl.model.crf_config_test, mdl.num_classes,\n",
    "                              output_scale[j], use_log=True)\n",
    "    pred_curr = cv2.resize(pred_curr, (gt_curr.shape[1], gt_curr.shape[0]))\n",
    "    \n",
    "# Read original image\n",
    "img_curr = cv2.cvtColor(cv2.imread(os.path.join(mdl.dataset_dir, 'JPEGImages',\n",
    "                        id_[j].decode('utf-8') + '.jpg')), cv2.COLOR_RGB2BGR)\n",
    "# Read GT segmentation\n",
    "if dataset == 'VOC2012' or 'DeepGlobe' in dataset:\n",
    "    gt_curr = cv2.cvtColor(cv2.imread(os.path.join(mdl.dataset_dir, 'SegmentationClassAug',\n",
    "                                  id_[j].decode('utf-8') + '.png')), cv2.COLOR_RGB2BGR)\n",
    "elif dataset == 'ADP-morph':\n",
    "    gt_curr = cv2.cvtColor(cv2.imread(os.path.join(mdl.dataset_dir, 'SegmentationClassAug', 'ADP-morph',\n",
    "                                      id_[j].decode('utf-8') + '.png')), cv2.COLOR_RGB2BGR)\n",
    "elif dataset == 'ADP-func':\n",
    "    gt_curr = cv2.cvtColor(cv2.imread(os.path.join(mdl.dataset_dir, 'SegmentationClassAug', 'ADP-func',\n",
    "                                      id_[j].decode('utf-8') + '.png')), cv2.COLOR_RGB2BGR)\n",
    "# Read predicted segmentation\n",
    "if 'DeepGlobe' not in dataset:\n",
    "    pred_curr = cv2.resize(output_scale[j], (gt_curr.shape[1], gt_curr.shape[0]))\n",
    "    img_curr = cv2.resize(img_curr, (gt_curr.shape[1], gt_curr.shape[0]))\n",
    "    # Apply dCRF\n",
    "    pred_curr = crf_inference(img_curr, mdl.model.crf_config_test, mdl.num_classes, pred_curr,\n",
    "                              use_log=True)\n",
    "else:\n",
    "    # Apply dCRF\n",
    "    pred_curr = crf_inference(np.uint8(img[j]), mdl.model.crf_config_test, mdl.num_classes,\n",
    "                              output_scale[j], use_log=True)\n",
    "    pred_curr = cv2.resize(pred_curr, (gt_curr.shape[1], gt_curr.shape[0]))"
   ]
  },
  {
   "cell_type": "code",
   "execution_count": 17,
   "metadata": {},
   "outputs": [],
   "source": [
    "G = np.zeros((gt_curr.shape[0], gt_curr.shape[1], 3))\n",
    "for k, gt_colour in enumerate(mdl.label2rgb_colors):\n",
    "    G += np.expand_dims(gt_curr[:, :, 0] == k, axis=2) * np.expand_dims(np.expand_dims(gt_colour, axis=0), axis=0)"
   ]
  },
  {
   "cell_type": "code",
   "execution_count": 18,
   "metadata": {},
   "outputs": [
    {
     "data": {
      "text/plain": [
       "Text(0.5, 1.0, 'Ground truth segmentation')"
      ]
     },
     "execution_count": 18,
     "metadata": {},
     "output_type": "execute_result"
    },
    {
     "data": {
      "image/png": "[encoded data removed]",
      "text/plain": [
       "<Figure size 432x288 with 2 Axes>"
      ]
     },
     "metadata": {
      "needs_background": "light"
     },
     "output_type": "display_data"
    }
   ],
   "source": [
    "plt.figure\n",
    "plt.subplot(121)\n",
    "plt.imshow(img_curr.astype('uint8'))\n",
    "plt.title('Original image')\n",
    "plt.subplot(122)\n",
    "plt.imshow(G.astype('uint8'))\n",
    "plt.title('Ground truth segmentation')"
   ]
  },
  {
   "cell_type": "code",
   "execution_count": 20,
   "metadata": {},
   "outputs": [],
   "source": [
    "Y_raw = np.zeros((gt_curr.shape[0], gt_curr.shape[1], 3))\n",
    "P_raw = cv2.resize(output_scale[j], (gt_curr.shape[1], gt_curr.shape[0]))\n",
    "for k, gt_colour in enumerate(mdl.label2rgb_colors):\n",
    "    pred_mask = np.argmax(P_raw, axis=-1) == k\n",
    "    Y_raw += np.expand_dims(pred_mask, axis=2) * np.expand_dims(np.expand_dims(gt_colour, axis=0), axis=0)\n",
    "Y = np.zeros((gt_curr.shape[0], gt_curr.shape[1], 3))\n",
    "P = cv2.resize(pred_curr, (gt_curr.shape[1], gt_curr.shape[0]))\n",
    "for k, gt_colour in enumerate(mdl.label2rgb_colors):\n",
    "    pred_mask = np.argmax(P, axis=-1) == k\n",
    "    Y += np.expand_dims(pred_mask, axis=2) * np.expand_dims(np.expand_dims(gt_colour, axis=0), axis=0)"
   ]
  },
  {
   "cell_type": "code",
   "execution_count": 21,
   "metadata": {},
   "outputs": [
    {
     "data": {
      "text/plain": [
       "Text(0.5, 1.0, 'Post-CRF Prediction')"
      ]
     },
     "execution_count": 21,
     "metadata": {},
     "output_type": "execute_result"
    },
    {
     "data": {
      "image/png": "[encoded data removed]",
      "text/plain": [
       "<Figure size 432x288 with 2 Axes>"
      ]
     },
     "metadata": {
      "needs_background": "light"
     },
     "output_type": "display_data"
    }
   ],
   "source": [
    "plt.figure\n",
    "plt.subplot(121)\n",
    "plt.imshow(Y_raw.astype('uint8'))\n",
    "plt.title('Raw Prediction')\n",
    "plt.subplot(122)\n",
    "plt.imshow(Y.astype('uint8'))\n",
    "plt.title('Post-CRF Prediction')"
   ]
  }
 ],
 "metadata": {
  "kernelspec": {
   "display_name": "Python 3",
   "language": "python",
   "name": "python3"
  },
  "language_info": {
   "codemirror_mode": {
    "name": "ipython",
    "version": 3
   },
   "file_extension": ".py",
   "mimetype": "text/x-python",
   "name": "python",
   "nbconvert_exporter": "python",
   "pygments_lexer": "ipython3",
   "version": "3.6.8"
  }
 },
 "nbformat": 4,
 "nbformat_minor": 2
}
